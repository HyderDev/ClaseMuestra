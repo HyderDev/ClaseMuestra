{
 "cells": [
  {
   "cell_type": "code",
   "execution_count": 9,
   "metadata": {},
   "outputs": [],
   "source": [
    "import nltk\n",
    "from nltk.tokenize import word_tokenize, sent_tokenize\n",
    "from nltk.tag import pos_tag\n",
    "from nltk.chunk import ne_chunk\n",
    "from nltk.corpus import stopwords"
   ]
  },
  {
   "cell_type": "code",
   "execution_count": 10,
   "metadata": {},
   "outputs": [
    {
     "name": "stdout",
     "output_type": "stream",
     "text": [
      "Oraciones: ['El gato está durmiendo en la alfombra.', 'Mi nombre es Juan y vivo en Nueva York.']\n",
      "Tokens: ['El', 'gato', 'está', 'durmiendo', 'en', 'la', 'alfombra', '.', 'Mi', 'nombre', 'es', 'Juan', 'y', 'vivo', 'en', 'Nueva', 'York', '.']\n",
      "Etiquetas gramaticales: [('El', 'NNP'), ('gato', 'NN'), ('está', 'NN'), ('durmiendo', 'NN'), ('en', 'IN'), ('la', 'NN'), ('alfombra', 'NN'), ('.', '.'), ('Mi', 'NNP'), ('nombre', 'JJ'), ('es', 'NN'), ('Juan', 'NNP'), ('y', 'NN'), ('vivo', 'NN'), ('en', 'IN'), ('Nueva', 'NNP'), ('York', 'NNP'), ('.', '.')]\n",
      "Entidades nombradas: (S\n",
      "  (GPE El/NNP)\n",
      "  gato/NN\n",
      "  está/NN\n",
      "  durmiendo/NN\n",
      "  en/IN\n",
      "  la/NN\n",
      "  alfombra/NN\n",
      "  ./.\n",
      "  Mi/NNP\n",
      "  nombre/JJ\n",
      "  es/NN\n",
      "  (PERSON Juan/NNP)\n",
      "  y/NN\n",
      "  vivo/NN\n",
      "  en/IN\n",
      "  (PERSON Nueva/NNP York/NNP)\n",
      "  ./.)\n",
      "Palabras filtradas: ['El', 'gato', 'está', 'durmiendo', 'en', 'la', 'alfombra', '.', 'Mi', 'nombre', 'es', 'Juan', 'vivo', 'en', 'Nueva', 'York', '.']\n"
     ]
    }
   ],
   "source": [
    "def process_text(text):\n",
    "    # Tokenización de oraciones\n",
    "    sentences = sent_tokenize(text)\n",
    "    print(\"Oraciones:\", sentences)\n",
    "\n",
    "    # Tokenización de palabras\n",
    "    tokens = word_tokenize(text)\n",
    "    print(\"Tokens:\", tokens)\n",
    "\n",
    "    # Etiquetado gramatical\n",
    "    tagged = pos_tag(tokens)\n",
    "    print(\"Etiquetas gramaticales:\", tagged)\n",
    "\n",
    "    # Reconocimiento de entidades nombradas\n",
    "    named_entities = ne_chunk(tagged)\n",
    "    print(\"Entidades nombradas:\", named_entities)\n",
    "\n",
    "    # Eliminación de palabras vacías (stop words)\n",
    "    stop_words = set(stopwords.words('english'))\n",
    "    filtered_words = [token for token in tokens if token.lower() not in stop_words]\n",
    "    print(\"Palabras filtradas:\", filtered_words)\n",
    "\n",
    "# Texto de ejemplo\n",
    "texto_ejemplo = \"El gato está durmiendo en la alfombra. Mi nombre es Juan y vivo en Nueva York.\"\n",
    "\n",
    "# Procesar el texto\n",
    "process_text(texto_ejemplo)"
   ]
  }
 ],
 "metadata": {
  "kernelspec": {
   "display_name": "base",
   "language": "python",
   "name": "python3"
  },
  "language_info": {
   "codemirror_mode": {
    "name": "ipython",
    "version": 3
   },
   "file_extension": ".py",
   "mimetype": "text/x-python",
   "name": "python",
   "nbconvert_exporter": "python",
   "pygments_lexer": "ipython3",
   "version": "3.10.9"
  },
  "orig_nbformat": 4
 },
 "nbformat": 4,
 "nbformat_minor": 2
}
