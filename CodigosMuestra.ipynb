{
 "cells": [
  {
   "attachments": {},
   "cell_type": "markdown",
   "metadata": {},
   "source": [
    "Este codigo fue desarrollado por Oscar Pérez, tutor de EBAC.\n",
    "Te invito a seguirme en instagram @Oscaruph"
   ]
  },
  {
   "attachments": {},
   "cell_type": "markdown",
   "metadata": {},
   "source": [
    "Este código muestra ejemplos básicos de variables y tipos de datos, como cadenas de texto, enteros, flotantes y booleanos. También se ejemplifican estructuras de control como condicionales (if-else) y bucles (while y for). Además, se muestra cómo definir y utilizar funciones en Python, y cómo importar y utilizar módulos, en este caso, el módulo math para calcular la raíz cuadrada."
   ]
  },
  {
   "cell_type": "code",
   "execution_count": 2,
   "metadata": {},
   "outputs": [
    {
     "name": "stdout",
     "output_type": "stream",
     "text": [
      "Mi nombre es juan\n",
      "Tengo 25 años\n",
      "Mi altura es 1.75 metros\n",
      "¿Soy estudiante? True\n",
      "Soy mayor de edad\n",
      "El contador es 0\n",
      "El contador es 1\n",
      "El contador es 2\n",
      "El contador es 3\n",
      "El contador es 4\n",
      "Me gusta comer manzana\n",
      "Me gusta comer banana\n",
      "Me gusta comer cereza\n",
      "El área del rectángulo es: 24\n",
      "El área del rectángulo es: 276\n",
      "La raíz cuadrada de 25 es: 5.0\n"
     ]
    }
   ],
   "source": [
    "# Variables y tipos de datos\n",
    "\n",
    "# Asignación de valores a variables\n",
    "nombre = \"juan\"\n",
    "edad = 25\n",
    "altura = 1.75\n",
    "es_estudiante = True\n",
    "\n",
    "# Imprimir el contenido de las variables\n",
    "print(\"Mi nombre es\", nombre)\n",
    "print(\"Tengo\", edad, \"años\")\n",
    "print(\"Mi altura es\", altura, \"metros\")\n",
    "print(\"¿Soy estudiante?\", es_estudiante)\n",
    "\n",
    "# Estructuras de control: condicionales\n",
    "\n",
    "if edad >= 18:  # Si la edad es mayor o igual a 18\n",
    "    print(\"Soy mayor de edad\")\n",
    "else:\n",
    "    print(\"Soy menor de edad\")\n",
    "\n",
    "# Estructuras de control: bucles\n",
    "\n",
    "# Bucle while\n",
    "contador = 0\n",
    "while contador < 5:\n",
    "    print(\"El contador es\", contador)\n",
    "    contador += 1\n",
    "\n",
    "# Bucle for\n",
    "frutas = [\"manzana\", \"banana\", \"cereza\"]\n",
    "for fruta in frutas:\n",
    "    print(\"Me gusta comer\", fruta)\n",
    "\n",
    "# Funciones\n",
    "\n",
    "# Definición de una función\n",
    "def calcular_area_rectangulo(base, altura):\n",
    "    area = base * altura\n",
    "    return area\n",
    "\n",
    "# Llamada a la función\n",
    "base_rectangulo = 4\n",
    "altura_rectangulo = 6\n",
    "area_rectangulo = calcular_area_rectangulo(base_rectangulo, altura_rectangulo)\n",
    "print(\"El área del rectángulo es:\", area_rectangulo)\n",
    "A=12\n",
    "B=23\n",
    "Area2 = calcular_area_rectangulo(A, B)\n",
    "print(\"El área del rectángulo es:\", Area2)\n",
    "\n",
    "# Módulos\n",
    "\n",
    "# Importar el módulo math\n",
    "import math\n",
    "\n",
    "# Utilizar una función del módulo math\n",
    "raiz_cuadrada = math.sqrt(25)\n",
    "print(\"La raíz cuadrada de 25 es:\", raiz_cuadrada)\n"
   ]
  },
  {
   "attachments": {},
   "cell_type": "markdown",
   "metadata": {},
   "source": [
    "## Respuesta"
   ]
  },
  {
   "attachments": {},
   "cell_type": "markdown",
   "metadata": {},
   "source": [
    "Al estar iniciando un proyecto nuevo, podemos comenzar con importar todo lo que necesitemos dentro de el al principio para poder tener un archivo más ordenado."
   ]
  },
  {
   "cell_type": "code",
   "execution_count": 3,
   "metadata": {},
   "outputs": [],
   "source": [
    "import math\n"
   ]
  },
  {
   "attachments": {},
   "cell_type": "markdown",
   "metadata": {},
   "source": [
    "### Ahora comenzamos a trabajar con el primer ejercicio de asignación de valores a variables."
   ]
  },
  {
   "cell_type": "code",
   "execution_count": 4,
   "metadata": {},
   "outputs": [
    {
     "name": "stdout",
     "output_type": "stream",
     "text": [
      "Mi nombre es Marco\n",
      "Tengo 23 años \n",
      "Soy mayor de edad\n",
      "Mi altura es 1.85 metros\n",
      "Soy estudiante\n"
     ]
    }
   ],
   "source": [
    "# Comienza a pedir los valores mediante input.\n",
    "nombre = input('¿Cual es tu nombre? ')\n",
    "\n",
    "\n",
    "# Se usa el f-string para poder ingresar el nombre dentro del siguiente mensaje del input.\n",
    "edad = int(input(f'Hola {nombre}, ¿Me puedes decir cuantos años tienes? '))\n",
    "altura = input(f'¿Cual es tu altura {nombre}? ')\n",
    "\n",
    "\n",
    "# Aquí lo que se busca es simplificar el trabajo al cliente evitando que se ingresen \n",
    "# los datos en booleano, mediante la transformación de los datos de 'str' a 'int' y luego a 'bool'.\n",
    "es_estudiante = int(input('Ahora mismo, ¿Estás estudiando? 0. No  1. Si '))\n",
    "\n",
    "\n",
    "# Estructuras de control: condicionales.\n",
    "if edad >= 18:  # Si la edad es mayor o igual a 18\n",
    "    mayor_o_menor = 'Soy mayor de edad'\n",
    "else:\n",
    "    mayor_o_menor = 'Soy menor de edad'\n",
    "\n",
    "\n",
    "# Uso de Listas \n",
    "# Si se entrega '0' se tomará el primer valor y si se entrega '1' se tomará el segundo\n",
    "estudiante = ['No soy estudiante', 'Soy estudiante']\n",
    "\n",
    "\n",
    "# Se concluye el ejercicio imprimiendo los resultados.\n",
    "# Se agregará si es mayor de edad dentro de la impresion de la edad.\n",
    "print(f'Mi nombre es {nombre}')\n",
    "print(f'Tengo {edad} años \\n{mayor_o_menor}') # \\n funciona para agregar un espacio en blanco\n",
    "print(f'Mi altura es {altura} metros')\n",
    "print(estudiante[es_estudiante])\n"
   ]
  },
  {
   "attachments": {},
   "cell_type": "markdown",
   "metadata": {},
   "source": [
    "### Seguimos con el ejercicio para calcular el área del rectángulo."
   ]
  },
  {
   "cell_type": "code",
   "execution_count": 5,
   "metadata": {},
   "outputs": [
    {
     "name": "stdout",
     "output_type": "stream",
     "text": [
      "El área del rectángulo es: 6\n"
     ]
    }
   ],
   "source": [
    "# Se ingresan los datos de Base y Altura correspondientes.\n",
    "# Se convierten los valores de 'str' a 'int'.\n",
    "base_rectangulo = int(input('Base del rectángulo = '))\n",
    "altura_rectangulo = int(input('Altura del rectángulo = '))\n",
    "\n",
    "\n",
    "# Se define la función para encontrar el área de un rectángulo \n",
    "# que tiene como input la base y la altura.\n",
    "def calcular_area_rectangulo(base, altura):\n",
    "    return base * altura # En funciones simples se puede regresar inmediatamente la respuesta.\n",
    "\n",
    "\n",
    "# Usamos la función para hallar el área.\n",
    "area_rectangulo = calcular_area_rectangulo(base_rectangulo, altura_rectangulo)\n",
    "\n",
    "\n",
    "# Imprimimos los resultados\n",
    "print(f'El área del rectángulo es: {area_rectangulo}')"
   ]
  },
  {
   "attachments": {},
   "cell_type": "markdown",
   "metadata": {},
   "source": [
    "### Concluimos con el ejercicio de la raíz cuadrada."
   ]
  },
  {
   "cell_type": "code",
   "execution_count": 6,
   "metadata": {},
   "outputs": [
    {
     "name": "stdout",
     "output_type": "stream",
     "text": [
      "La raíz cuadrada de 25.0 es: 5.0\n"
     ]
    }
   ],
   "source": [
    "# Pedimos el número al usuario.\n",
    "numero = float(input('Conoce la raiz cuadrada de... '))\n",
    "\n",
    "\n",
    "# Utilizamos la función del módulo math para encontrar la raiz cuadrada.\n",
    "raiz_cuadrada = math.sqrt(numero)\n",
    "\n",
    "\n",
    "# Imprimimos los resultados.\n",
    "print(f'La raíz cuadrada de {numero} es: {raiz_cuadrada}')\n"
   ]
  }
 ],
 "metadata": {
  "kernelspec": {
   "display_name": "Python 3 (ipykernel)",
   "language": "python",
   "name": "python3"
  },
  "language_info": {
   "codemirror_mode": {
    "name": "ipython",
    "version": 3
   },
   "file_extension": ".py",
   "mimetype": "text/x-python",
   "name": "python",
   "nbconvert_exporter": "python",
   "pygments_lexer": "ipython3",
   "version": "3.10.4"
  },
  "orig_nbformat": 4
 },
 "nbformat": 4,
 "nbformat_minor": 2
}
